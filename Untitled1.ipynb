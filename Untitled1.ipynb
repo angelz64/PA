{
  "nbformat": 4,
  "nbformat_minor": 0,
  "metadata": {
    "colab": {
      "provenance": [],
      "authorship_tag": "ABX9TyM9WBTajg1g2a08OeOToTr7",
      "include_colab_link": true
    },
    "kernelspec": {
      "name": "python3",
      "display_name": "Python 3"
    },
    "language_info": {
      "name": "python"
    }
  },
  "cells": [
    {
      "cell_type": "markdown",
      "metadata": {
        "id": "view-in-github",
        "colab_type": "text"
      },
      "source": [
        "<a href=\"https://colab.research.google.com/github/angelz64/PA/blob/main/Untitled1.ipynb\" target=\"_parent\"><img src=\"https://colab.research.google.com/assets/colab-badge.svg\" alt=\"Open In Colab\"/></a>"
      ]
    },
    {
      "cell_type": "code",
      "execution_count": null,
      "metadata": {
        "colab": {
          "base_uri": "https://localhost:8080/"
        },
        "id": "78THgoAA-0wL",
        "outputId": "53b8919a-2719-44c8-a145-dbd267f04142"
      },
      "outputs": [
        {
          "output_type": "stream",
          "name": "stdout",
          "text": [
            "Digite um valor: 6\n",
            "O número 6 é PAR.\n"
          ]
        }
      ],
      "source": [
        "# Pedir ao usuário para digitar um valor\n",
        "numero = int(input(\"Digite um valor: \"))\n",
        "\n",
        "# Verificar se o número é par ou ímpar\n",
        "print(f\"O número {numero} é {'PAR' if numero % 2 == 0 else 'ÍMPAR'}.\")\n"
      ]
    },
    {
      "cell_type": "code",
      "source": [
        "# Receber os valores dos lados\n",
        "l1 = float(input(\"Digite o valor do primeiro lado do triângulo: \"))\n",
        "l2 = float(input(\"Digite o valor do segundo lado do triângulo: \"))\n",
        "l3 = float(input(\"Digite o valor do terceiro lado do triângulo: \"))\n",
        "\n",
        "# Verificar se é possível formar um triângulo e determinar o tipo\n",
        "triangulo = (l1 + l2 > l3) and (l1 + l3 > l2) and (l2 + l3 > l1)\n",
        "equilatero = (l1 == l2 == l3)\n",
        "escaleno = (l1 != l2) and (l1 != l3) and (l2 != l3)\n",
        "isosceles = not equilatero and not escaleno\n",
        "\n",
        "# Exibir o resultado\n",
        "print(f\"Triângulo possível: {triangulo}\")\n",
        "print(f\"Equilátero: {equilatero}\")\n",
        "print(f\"Escaleno: {escaleno}\")\n",
        "print(f\"Isósceles: {isosceles}\")\n"
      ],
      "metadata": {
        "colab": {
          "base_uri": "https://localhost:8080/"
        },
        "id": "_7crCHsN_Ul2",
        "outputId": "348b2d13-e1f0-4ff5-898c-62424f378f77"
      },
      "execution_count": null,
      "outputs": [
        {
          "output_type": "stream",
          "name": "stdout",
          "text": [
            "Digite o valor do primeiro lado do triângulo: 3\n",
            "Digite o valor do segundo lado do triângulo: 4\n",
            "Digite o valor do terceiro lado do triângulo: 5\n",
            "Triângulo possível: True\n",
            "Equilátero: False\n",
            "Escaleno: True\n",
            "Isósceles: False\n"
          ]
        }
      ]
    },
    {
      "cell_type": "code",
      "source": [
        "# Solicitar peso e altura\n",
        "peso = float(input(\"Digite seu peso (em kg): \"))\n",
        "altura = float(input(\"Digite sua altura (em metros): \"))\n",
        "\n",
        "# Calcular o IMC\n",
        "imc = peso / (altura ** 2)\n",
        "\n",
        "# Determinar a categoria de peso usando um dicionário para associar intervalos ao peso\n",
        "categorias = {\n",
        "    (0, 18.5): \"Abaixo do peso\",\n",
        "    (18.5, 24.9): \"Peso ideal\",\n",
        "    (25, 29.9): \"Acima do peso\",\n",
        "    (30, float('inf')): \"Obesidade\"\n",
        "}\n",
        "\n",
        "# Encontrar a categoria correspondente\n",
        "categoria = next(val for (inicio, fim), val in categorias.items() if inicio <= imc < fim)\n",
        "\n",
        "# Exibir o resultado\n",
        "print(f\"Seu IMC é {imc:.2f}.\")\n",
        "print(f\"Categoria: {categoria}\")\n"
      ],
      "metadata": {
        "colab": {
          "base_uri": "https://localhost:8080/"
        },
        "id": "ZMW2i4Ya_WGt",
        "outputId": "a23f3f34-fec9-41bc-ddee-227f85869d05"
      },
      "execution_count": null,
      "outputs": [
        {
          "output_type": "stream",
          "name": "stdout",
          "text": [
            "Digite seu peso (em kg): 81845294852689596.896\n",
            "Digite sua altura (em metros): 78457857857859685989\n",
            "Seu IMC é 0.00.\n",
            "Categoria: Abaixo do peso\n"
          ]
        }
      ]
    }
  ]
}